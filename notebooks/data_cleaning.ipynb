{
 "cells": [
  {
   "cell_type": "markdown",
   "metadata": {},
   "source": [
    "# Data Cleaning"
   ]
  },
  {
   "cell_type": "markdown",
   "metadata": {},
   "source": [
    "### Setup\n",
    "\n",
    "Please find link to dataset: https://www.kaggle.com/datasets/mahatiratusher/stroke-risk-prediction-dataset/code\n",
    "\n",
    "Dependencies installation checklist :\n",
    " - Pandas\n",
    " - Matplotlib\n",
    " - Seaborn\n",
    " - Numpy\n",
    " - Scikit (model training)"
   ]
  },
  {
   "cell_type": "code",
   "execution_count": 1,
   "metadata": {},
   "outputs": [
    {
     "name": "stdout",
     "output_type": "stream",
     "text": [
      "Requirement already satisfied: pandas in /Users/ken/Desktop/CBA-repositories/ML-OLA-2/ola-2-venv/lib/python3.13/site-packages (2.2.3)\n",
      "Requirement already satisfied: matplotlib in /Users/ken/Desktop/CBA-repositories/ML-OLA-2/ola-2-venv/lib/python3.13/site-packages (3.10.1)\n",
      "Requirement already satisfied: seaborn in /Users/ken/Desktop/CBA-repositories/ML-OLA-2/ola-2-venv/lib/python3.13/site-packages (0.13.2)\n",
      "Requirement already satisfied: numpy in /Users/ken/Desktop/CBA-repositories/ML-OLA-2/ola-2-venv/lib/python3.13/site-packages (2.2.4)\n",
      "Requirement already satisfied: scikit-learn in /Users/ken/Desktop/CBA-repositories/ML-OLA-2/ola-2-venv/lib/python3.13/site-packages (1.6.1)\n",
      "Requirement already satisfied: python-dateutil>=2.8.2 in /Users/ken/Desktop/CBA-repositories/ML-OLA-2/ola-2-venv/lib/python3.13/site-packages (from pandas) (2.9.0.post0)\n",
      "Requirement already satisfied: pytz>=2020.1 in /Users/ken/Desktop/CBA-repositories/ML-OLA-2/ola-2-venv/lib/python3.13/site-packages (from pandas) (2025.2)\n",
      "Requirement already satisfied: tzdata>=2022.7 in /Users/ken/Desktop/CBA-repositories/ML-OLA-2/ola-2-venv/lib/python3.13/site-packages (from pandas) (2025.2)\n",
      "Requirement already satisfied: contourpy>=1.0.1 in /Users/ken/Desktop/CBA-repositories/ML-OLA-2/ola-2-venv/lib/python3.13/site-packages (from matplotlib) (1.3.1)\n",
      "Requirement already satisfied: cycler>=0.10 in /Users/ken/Desktop/CBA-repositories/ML-OLA-2/ola-2-venv/lib/python3.13/site-packages (from matplotlib) (0.12.1)\n",
      "Requirement already satisfied: fonttools>=4.22.0 in /Users/ken/Desktop/CBA-repositories/ML-OLA-2/ola-2-venv/lib/python3.13/site-packages (from matplotlib) (4.57.0)\n",
      "Requirement already satisfied: kiwisolver>=1.3.1 in /Users/ken/Desktop/CBA-repositories/ML-OLA-2/ola-2-venv/lib/python3.13/site-packages (from matplotlib) (1.4.8)\n",
      "Requirement already satisfied: packaging>=20.0 in /Users/ken/Desktop/CBA-repositories/ML-OLA-2/ola-2-venv/lib/python3.13/site-packages (from matplotlib) (24.2)\n",
      "Requirement already satisfied: pillow>=8 in /Users/ken/Desktop/CBA-repositories/ML-OLA-2/ola-2-venv/lib/python3.13/site-packages (from matplotlib) (11.1.0)\n",
      "Requirement already satisfied: pyparsing>=2.3.1 in /Users/ken/Desktop/CBA-repositories/ML-OLA-2/ola-2-venv/lib/python3.13/site-packages (from matplotlib) (3.2.3)\n",
      "Requirement already satisfied: scipy>=1.6.0 in /Users/ken/Desktop/CBA-repositories/ML-OLA-2/ola-2-venv/lib/python3.13/site-packages (from scikit-learn) (1.15.2)\n",
      "Requirement already satisfied: joblib>=1.2.0 in /Users/ken/Desktop/CBA-repositories/ML-OLA-2/ola-2-venv/lib/python3.13/site-packages (from scikit-learn) (1.4.2)\n",
      "Requirement already satisfied: threadpoolctl>=3.1.0 in /Users/ken/Desktop/CBA-repositories/ML-OLA-2/ola-2-venv/lib/python3.13/site-packages (from scikit-learn) (3.6.0)\n",
      "Requirement already satisfied: six>=1.5 in /Users/ken/Desktop/CBA-repositories/ML-OLA-2/ola-2-venv/lib/python3.13/site-packages (from python-dateutil>=2.8.2->pandas) (1.17.0)\n",
      "\n",
      "\u001b[1m[\u001b[0m\u001b[34;49mnotice\u001b[0m\u001b[1;39;49m]\u001b[0m\u001b[39;49m A new release of pip is available: \u001b[0m\u001b[31;49m25.0\u001b[0m\u001b[39;49m -> \u001b[0m\u001b[32;49m25.0.1\u001b[0m\n",
      "\u001b[1m[\u001b[0m\u001b[34;49mnotice\u001b[0m\u001b[1;39;49m]\u001b[0m\u001b[39;49m To update, run: \u001b[0m\u001b[32;49mpip install --upgrade pip\u001b[0m\n"
     ]
    }
   ],
   "source": [
    "!pip install pandas matplotlib seaborn numpy scikit-learn"
   ]
  },
  {
   "cell_type": "markdown",
   "metadata": {},
   "source": [
    "Define imports:"
   ]
  },
  {
   "cell_type": "code",
   "execution_count": 2,
   "metadata": {},
   "outputs": [],
   "source": [
    "import pandas as pd\n",
    "import matplotlib.pyplot as plt\n",
    "import seaborn as sns\n",
    "import numpy as np\n",
    "from sklearn.preprocessing import MinMaxScaler\n",
    "from sklearn.model_selection import train_test_split"
   ]
  },
  {
   "cell_type": "markdown",
   "metadata": {},
   "source": [
    "Load dataset and confirm "
   ]
  },
  {
   "cell_type": "code",
   "execution_count": 3,
   "metadata": {},
   "outputs": [
    {
     "data": {
      "text/html": [
       "<div>\n",
       "<style scoped>\n",
       "    .dataframe tbody tr th:only-of-type {\n",
       "        vertical-align: middle;\n",
       "    }\n",
       "\n",
       "    .dataframe tbody tr th {\n",
       "        vertical-align: top;\n",
       "    }\n",
       "\n",
       "    .dataframe thead th {\n",
       "        text-align: right;\n",
       "    }\n",
       "</style>\n",
       "<table border=\"1\" class=\"dataframe\">\n",
       "  <thead>\n",
       "    <tr style=\"text-align: right;\">\n",
       "      <th></th>\n",
       "      <th>Chest Pain</th>\n",
       "      <th>Shortness of Breath</th>\n",
       "      <th>Irregular Heartbeat</th>\n",
       "      <th>Fatigue &amp; Weakness</th>\n",
       "      <th>Dizziness</th>\n",
       "      <th>Swelling (Edema)</th>\n",
       "      <th>Pain in Neck/Jaw/Shoulder/Back</th>\n",
       "      <th>Excessive Sweating</th>\n",
       "      <th>Persistent Cough</th>\n",
       "      <th>Nausea/Vomiting</th>\n",
       "      <th>High Blood Pressure</th>\n",
       "      <th>Chest Discomfort (Activity)</th>\n",
       "      <th>Cold Hands/Feet</th>\n",
       "      <th>Snoring/Sleep Apnea</th>\n",
       "      <th>Anxiety/Feeling of Doom</th>\n",
       "      <th>Age</th>\n",
       "      <th>Stroke Risk (%)</th>\n",
       "      <th>At Risk (Binary)</th>\n",
       "    </tr>\n",
       "  </thead>\n",
       "  <tbody>\n",
       "    <tr>\n",
       "      <th>0</th>\n",
       "      <td>0</td>\n",
       "      <td>1</td>\n",
       "      <td>1</td>\n",
       "      <td>1</td>\n",
       "      <td>0</td>\n",
       "      <td>0</td>\n",
       "      <td>0</td>\n",
       "      <td>1</td>\n",
       "      <td>1</td>\n",
       "      <td>1</td>\n",
       "      <td>0</td>\n",
       "      <td>1</td>\n",
       "      <td>1</td>\n",
       "      <td>0</td>\n",
       "      <td>0</td>\n",
       "      <td>54</td>\n",
       "      <td>58.0</td>\n",
       "      <td>1</td>\n",
       "    </tr>\n",
       "    <tr>\n",
       "      <th>1</th>\n",
       "      <td>0</td>\n",
       "      <td>0</td>\n",
       "      <td>1</td>\n",
       "      <td>0</td>\n",
       "      <td>0</td>\n",
       "      <td>1</td>\n",
       "      <td>0</td>\n",
       "      <td>0</td>\n",
       "      <td>0</td>\n",
       "      <td>0</td>\n",
       "      <td>1</td>\n",
       "      <td>0</td>\n",
       "      <td>1</td>\n",
       "      <td>1</td>\n",
       "      <td>0</td>\n",
       "      <td>49</td>\n",
       "      <td>40.5</td>\n",
       "      <td>0</td>\n",
       "    </tr>\n",
       "    <tr>\n",
       "      <th>2</th>\n",
       "      <td>1</td>\n",
       "      <td>0</td>\n",
       "      <td>0</td>\n",
       "      <td>1</td>\n",
       "      <td>1</td>\n",
       "      <td>1</td>\n",
       "      <td>0</td>\n",
       "      <td>0</td>\n",
       "      <td>1</td>\n",
       "      <td>0</td>\n",
       "      <td>0</td>\n",
       "      <td>0</td>\n",
       "      <td>0</td>\n",
       "      <td>1</td>\n",
       "      <td>0</td>\n",
       "      <td>62</td>\n",
       "      <td>52.0</td>\n",
       "      <td>1</td>\n",
       "    </tr>\n",
       "    <tr>\n",
       "      <th>3</th>\n",
       "      <td>1</td>\n",
       "      <td>0</td>\n",
       "      <td>1</td>\n",
       "      <td>1</td>\n",
       "      <td>0</td>\n",
       "      <td>1</td>\n",
       "      <td>1</td>\n",
       "      <td>1</td>\n",
       "      <td>1</td>\n",
       "      <td>1</td>\n",
       "      <td>1</td>\n",
       "      <td>0</td>\n",
       "      <td>0</td>\n",
       "      <td>0</td>\n",
       "      <td>0</td>\n",
       "      <td>48</td>\n",
       "      <td>60.0</td>\n",
       "      <td>1</td>\n",
       "    </tr>\n",
       "    <tr>\n",
       "      <th>4</th>\n",
       "      <td>0</td>\n",
       "      <td>0</td>\n",
       "      <td>1</td>\n",
       "      <td>0</td>\n",
       "      <td>0</td>\n",
       "      <td>1</td>\n",
       "      <td>0</td>\n",
       "      <td>1</td>\n",
       "      <td>0</td>\n",
       "      <td>1</td>\n",
       "      <td>1</td>\n",
       "      <td>0</td>\n",
       "      <td>0</td>\n",
       "      <td>1</td>\n",
       "      <td>1</td>\n",
       "      <td>61</td>\n",
       "      <td>56.5</td>\n",
       "      <td>1</td>\n",
       "    </tr>\n",
       "  </tbody>\n",
       "</table>\n",
       "</div>"
      ],
      "text/plain": [
       "   Chest Pain  Shortness of Breath  Irregular Heartbeat  Fatigue & Weakness  \\\n",
       "0           0                    1                    1                   1   \n",
       "1           0                    0                    1                   0   \n",
       "2           1                    0                    0                   1   \n",
       "3           1                    0                    1                   1   \n",
       "4           0                    0                    1                   0   \n",
       "\n",
       "   Dizziness  Swelling (Edema)  Pain in Neck/Jaw/Shoulder/Back  \\\n",
       "0          0                 0                               0   \n",
       "1          0                 1                               0   \n",
       "2          1                 1                               0   \n",
       "3          0                 1                               1   \n",
       "4          0                 1                               0   \n",
       "\n",
       "   Excessive Sweating  Persistent Cough  Nausea/Vomiting  High Blood Pressure  \\\n",
       "0                   1                 1                1                    0   \n",
       "1                   0                 0                0                    1   \n",
       "2                   0                 1                0                    0   \n",
       "3                   1                 1                1                    1   \n",
       "4                   1                 0                1                    1   \n",
       "\n",
       "   Chest Discomfort (Activity)  Cold Hands/Feet  Snoring/Sleep Apnea  \\\n",
       "0                            1                1                    0   \n",
       "1                            0                1                    1   \n",
       "2                            0                0                    1   \n",
       "3                            0                0                    0   \n",
       "4                            0                0                    1   \n",
       "\n",
       "   Anxiety/Feeling of Doom  Age  Stroke Risk (%)  At Risk (Binary)  \n",
       "0                        0   54             58.0                 1  \n",
       "1                        0   49             40.5                 0  \n",
       "2                        0   62             52.0                 1  \n",
       "3                        0   48             60.0                 1  \n",
       "4                        1   61             56.5                 1  "
      ]
     },
     "execution_count": 3,
     "metadata": {},
     "output_type": "execute_result"
    }
   ],
   "source": [
    "df = pd.read_csv(\"../data/stroke_risk_dataset.csv\")\n",
    "\n",
    "df.head()"
   ]
  },
  {
   "cell_type": "code",
   "execution_count": 4,
   "metadata": {},
   "outputs": [
    {
     "name": "stdout",
     "output_type": "stream",
     "text": [
      "<class 'pandas.core.frame.DataFrame'>\n",
      "RangeIndex: 70000 entries, 0 to 69999\n",
      "Data columns (total 18 columns):\n",
      " #   Column                          Non-Null Count  Dtype  \n",
      "---  ------                          --------------  -----  \n",
      " 0   Chest Pain                      70000 non-null  int64  \n",
      " 1   Shortness of Breath             70000 non-null  int64  \n",
      " 2   Irregular Heartbeat             70000 non-null  int64  \n",
      " 3   Fatigue & Weakness              70000 non-null  int64  \n",
      " 4   Dizziness                       70000 non-null  int64  \n",
      " 5   Swelling (Edema)                70000 non-null  int64  \n",
      " 6   Pain in Neck/Jaw/Shoulder/Back  70000 non-null  int64  \n",
      " 7   Excessive Sweating              70000 non-null  int64  \n",
      " 8   Persistent Cough                70000 non-null  int64  \n",
      " 9   Nausea/Vomiting                 70000 non-null  int64  \n",
      " 10  High Blood Pressure             70000 non-null  int64  \n",
      " 11  Chest Discomfort (Activity)     70000 non-null  int64  \n",
      " 12  Cold Hands/Feet                 70000 non-null  int64  \n",
      " 13  Snoring/Sleep Apnea             70000 non-null  int64  \n",
      " 14  Anxiety/Feeling of Doom         70000 non-null  int64  \n",
      " 15  Age                             70000 non-null  int64  \n",
      " 16  Stroke Risk (%)                 70000 non-null  float64\n",
      " 17  At Risk (Binary)                70000 non-null  int64  \n",
      "dtypes: float64(1), int64(17)\n",
      "memory usage: 9.6 MB\n"
     ]
    },
    {
     "data": {
      "text/html": [
       "<div>\n",
       "<style scoped>\n",
       "    .dataframe tbody tr th:only-of-type {\n",
       "        vertical-align: middle;\n",
       "    }\n",
       "\n",
       "    .dataframe tbody tr th {\n",
       "        vertical-align: top;\n",
       "    }\n",
       "\n",
       "    .dataframe thead th {\n",
       "        text-align: right;\n",
       "    }\n",
       "</style>\n",
       "<table border=\"1\" class=\"dataframe\">\n",
       "  <thead>\n",
       "    <tr style=\"text-align: right;\">\n",
       "      <th></th>\n",
       "      <th>Chest Pain</th>\n",
       "      <th>Shortness of Breath</th>\n",
       "      <th>Irregular Heartbeat</th>\n",
       "      <th>Fatigue &amp; Weakness</th>\n",
       "      <th>Dizziness</th>\n",
       "      <th>Swelling (Edema)</th>\n",
       "      <th>Pain in Neck/Jaw/Shoulder/Back</th>\n",
       "      <th>Excessive Sweating</th>\n",
       "      <th>Persistent Cough</th>\n",
       "      <th>Nausea/Vomiting</th>\n",
       "      <th>High Blood Pressure</th>\n",
       "      <th>Chest Discomfort (Activity)</th>\n",
       "      <th>Cold Hands/Feet</th>\n",
       "      <th>Snoring/Sleep Apnea</th>\n",
       "      <th>Anxiety/Feeling of Doom</th>\n",
       "      <th>Age</th>\n",
       "      <th>Stroke Risk (%)</th>\n",
       "      <th>At Risk (Binary)</th>\n",
       "    </tr>\n",
       "  </thead>\n",
       "  <tbody>\n",
       "    <tr>\n",
       "      <th>count</th>\n",
       "      <td>70000.000000</td>\n",
       "      <td>70000.000000</td>\n",
       "      <td>70000.000000</td>\n",
       "      <td>70000.000000</td>\n",
       "      <td>70000.000000</td>\n",
       "      <td>70000.000000</td>\n",
       "      <td>70000.000000</td>\n",
       "      <td>70000.000000</td>\n",
       "      <td>70000.000000</td>\n",
       "      <td>70000.000000</td>\n",
       "      <td>70000.000000</td>\n",
       "      <td>70000.000000</td>\n",
       "      <td>70000.000000</td>\n",
       "      <td>70000.000000</td>\n",
       "      <td>70000.000000</td>\n",
       "      <td>70000.000000</td>\n",
       "      <td>70000.000000</td>\n",
       "      <td>70000.000000</td>\n",
       "    </tr>\n",
       "    <tr>\n",
       "      <th>mean</th>\n",
       "      <td>0.501871</td>\n",
       "      <td>0.496471</td>\n",
       "      <td>0.498886</td>\n",
       "      <td>0.500100</td>\n",
       "      <td>0.503043</td>\n",
       "      <td>0.500557</td>\n",
       "      <td>0.499186</td>\n",
       "      <td>0.503671</td>\n",
       "      <td>0.500800</td>\n",
       "      <td>0.501943</td>\n",
       "      <td>0.500643</td>\n",
       "      <td>0.499557</td>\n",
       "      <td>0.498871</td>\n",
       "      <td>0.500686</td>\n",
       "      <td>0.499871</td>\n",
       "      <td>54.056429</td>\n",
       "      <td>55.558771</td>\n",
       "      <td>0.649200</td>\n",
       "    </tr>\n",
       "    <tr>\n",
       "      <th>std</th>\n",
       "      <td>0.500000</td>\n",
       "      <td>0.499991</td>\n",
       "      <td>0.500002</td>\n",
       "      <td>0.500004</td>\n",
       "      <td>0.499994</td>\n",
       "      <td>0.500003</td>\n",
       "      <td>0.500003</td>\n",
       "      <td>0.499990</td>\n",
       "      <td>0.500003</td>\n",
       "      <td>0.500000</td>\n",
       "      <td>0.500003</td>\n",
       "      <td>0.500003</td>\n",
       "      <td>0.500002</td>\n",
       "      <td>0.500003</td>\n",
       "      <td>0.500004</td>\n",
       "      <td>21.071567</td>\n",
       "      <td>14.300898</td>\n",
       "      <td>0.477224</td>\n",
       "    </tr>\n",
       "    <tr>\n",
       "      <th>min</th>\n",
       "      <td>0.000000</td>\n",
       "      <td>0.000000</td>\n",
       "      <td>0.000000</td>\n",
       "      <td>0.000000</td>\n",
       "      <td>0.000000</td>\n",
       "      <td>0.000000</td>\n",
       "      <td>0.000000</td>\n",
       "      <td>0.000000</td>\n",
       "      <td>0.000000</td>\n",
       "      <td>0.000000</td>\n",
       "      <td>0.000000</td>\n",
       "      <td>0.000000</td>\n",
       "      <td>0.000000</td>\n",
       "      <td>0.000000</td>\n",
       "      <td>0.000000</td>\n",
       "      <td>18.000000</td>\n",
       "      <td>5.000000</td>\n",
       "      <td>0.000000</td>\n",
       "    </tr>\n",
       "    <tr>\n",
       "      <th>25%</th>\n",
       "      <td>0.000000</td>\n",
       "      <td>0.000000</td>\n",
       "      <td>0.000000</td>\n",
       "      <td>0.000000</td>\n",
       "      <td>0.000000</td>\n",
       "      <td>0.000000</td>\n",
       "      <td>0.000000</td>\n",
       "      <td>0.000000</td>\n",
       "      <td>0.000000</td>\n",
       "      <td>0.000000</td>\n",
       "      <td>0.000000</td>\n",
       "      <td>0.000000</td>\n",
       "      <td>0.000000</td>\n",
       "      <td>0.000000</td>\n",
       "      <td>0.000000</td>\n",
       "      <td>36.000000</td>\n",
       "      <td>45.500000</td>\n",
       "      <td>0.000000</td>\n",
       "    </tr>\n",
       "    <tr>\n",
       "      <th>50%</th>\n",
       "      <td>1.000000</td>\n",
       "      <td>0.000000</td>\n",
       "      <td>0.000000</td>\n",
       "      <td>1.000000</td>\n",
       "      <td>1.000000</td>\n",
       "      <td>1.000000</td>\n",
       "      <td>0.000000</td>\n",
       "      <td>1.000000</td>\n",
       "      <td>1.000000</td>\n",
       "      <td>1.000000</td>\n",
       "      <td>1.000000</td>\n",
       "      <td>0.000000</td>\n",
       "      <td>0.000000</td>\n",
       "      <td>1.000000</td>\n",
       "      <td>0.000000</td>\n",
       "      <td>54.000000</td>\n",
       "      <td>55.500000</td>\n",
       "      <td>1.000000</td>\n",
       "    </tr>\n",
       "    <tr>\n",
       "      <th>75%</th>\n",
       "      <td>1.000000</td>\n",
       "      <td>1.000000</td>\n",
       "      <td>1.000000</td>\n",
       "      <td>1.000000</td>\n",
       "      <td>1.000000</td>\n",
       "      <td>1.000000</td>\n",
       "      <td>1.000000</td>\n",
       "      <td>1.000000</td>\n",
       "      <td>1.000000</td>\n",
       "      <td>1.000000</td>\n",
       "      <td>1.000000</td>\n",
       "      <td>1.000000</td>\n",
       "      <td>1.000000</td>\n",
       "      <td>1.000000</td>\n",
       "      <td>1.000000</td>\n",
       "      <td>72.000000</td>\n",
       "      <td>66.000000</td>\n",
       "      <td>1.000000</td>\n",
       "    </tr>\n",
       "    <tr>\n",
       "      <th>max</th>\n",
       "      <td>1.000000</td>\n",
       "      <td>1.000000</td>\n",
       "      <td>1.000000</td>\n",
       "      <td>1.000000</td>\n",
       "      <td>1.000000</td>\n",
       "      <td>1.000000</td>\n",
       "      <td>1.000000</td>\n",
       "      <td>1.000000</td>\n",
       "      <td>1.000000</td>\n",
       "      <td>1.000000</td>\n",
       "      <td>1.000000</td>\n",
       "      <td>1.000000</td>\n",
       "      <td>1.000000</td>\n",
       "      <td>1.000000</td>\n",
       "      <td>1.000000</td>\n",
       "      <td>90.000000</td>\n",
       "      <td>100.000000</td>\n",
       "      <td>1.000000</td>\n",
       "    </tr>\n",
       "  </tbody>\n",
       "</table>\n",
       "</div>"
      ],
      "text/plain": [
       "         Chest Pain  Shortness of Breath  Irregular Heartbeat  \\\n",
       "count  70000.000000         70000.000000         70000.000000   \n",
       "mean       0.501871             0.496471             0.498886   \n",
       "std        0.500000             0.499991             0.500002   \n",
       "min        0.000000             0.000000             0.000000   \n",
       "25%        0.000000             0.000000             0.000000   \n",
       "50%        1.000000             0.000000             0.000000   \n",
       "75%        1.000000             1.000000             1.000000   \n",
       "max        1.000000             1.000000             1.000000   \n",
       "\n",
       "       Fatigue & Weakness     Dizziness  Swelling (Edema)  \\\n",
       "count        70000.000000  70000.000000      70000.000000   \n",
       "mean             0.500100      0.503043          0.500557   \n",
       "std              0.500004      0.499994          0.500003   \n",
       "min              0.000000      0.000000          0.000000   \n",
       "25%              0.000000      0.000000          0.000000   \n",
       "50%              1.000000      1.000000          1.000000   \n",
       "75%              1.000000      1.000000          1.000000   \n",
       "max              1.000000      1.000000          1.000000   \n",
       "\n",
       "       Pain in Neck/Jaw/Shoulder/Back  Excessive Sweating  Persistent Cough  \\\n",
       "count                    70000.000000        70000.000000      70000.000000   \n",
       "mean                         0.499186            0.503671          0.500800   \n",
       "std                          0.500003            0.499990          0.500003   \n",
       "min                          0.000000            0.000000          0.000000   \n",
       "25%                          0.000000            0.000000          0.000000   \n",
       "50%                          0.000000            1.000000          1.000000   \n",
       "75%                          1.000000            1.000000          1.000000   \n",
       "max                          1.000000            1.000000          1.000000   \n",
       "\n",
       "       Nausea/Vomiting  High Blood Pressure  Chest Discomfort (Activity)  \\\n",
       "count     70000.000000         70000.000000                 70000.000000   \n",
       "mean          0.501943             0.500643                     0.499557   \n",
       "std           0.500000             0.500003                     0.500003   \n",
       "min           0.000000             0.000000                     0.000000   \n",
       "25%           0.000000             0.000000                     0.000000   \n",
       "50%           1.000000             1.000000                     0.000000   \n",
       "75%           1.000000             1.000000                     1.000000   \n",
       "max           1.000000             1.000000                     1.000000   \n",
       "\n",
       "       Cold Hands/Feet  Snoring/Sleep Apnea  Anxiety/Feeling of Doom  \\\n",
       "count     70000.000000         70000.000000             70000.000000   \n",
       "mean          0.498871             0.500686                 0.499871   \n",
       "std           0.500002             0.500003                 0.500004   \n",
       "min           0.000000             0.000000                 0.000000   \n",
       "25%           0.000000             0.000000                 0.000000   \n",
       "50%           0.000000             1.000000                 0.000000   \n",
       "75%           1.000000             1.000000                 1.000000   \n",
       "max           1.000000             1.000000                 1.000000   \n",
       "\n",
       "                Age  Stroke Risk (%)  At Risk (Binary)  \n",
       "count  70000.000000     70000.000000      70000.000000  \n",
       "mean      54.056429        55.558771          0.649200  \n",
       "std       21.071567        14.300898          0.477224  \n",
       "min       18.000000         5.000000          0.000000  \n",
       "25%       36.000000        45.500000          0.000000  \n",
       "50%       54.000000        55.500000          1.000000  \n",
       "75%       72.000000        66.000000          1.000000  \n",
       "max       90.000000       100.000000          1.000000  "
      ]
     },
     "execution_count": 4,
     "metadata": {},
     "output_type": "execute_result"
    }
   ],
   "source": [
    "df.info()\n",
    "df.describe()"
   ]
  },
  {
   "cell_type": "markdown",
   "metadata": {},
   "source": [
    "### Data Cleaning\n",
    "\n",
    "\n",
    "Goal for this step is to basically figure out if we can trust this data set.\n",
    "\n",
    "Target approach:\n",
    "- Check for any null values in all the columns\n",
    "- Check for any duplicates and drop them if they exist\n",
    "- Make sure we don't have any incorrect data types\n",
    "- Spot outliers"
   ]
  },
  {
   "cell_type": "code",
   "execution_count": 5,
   "metadata": {},
   "outputs": [
    {
     "name": "stdout",
     "output_type": "stream",
     "text": [
      "Chest Pain                        0\n",
      "Shortness of Breath               0\n",
      "Irregular Heartbeat               0\n",
      "Fatigue & Weakness                0\n",
      "Dizziness                         0\n",
      "Swelling (Edema)                  0\n",
      "Pain in Neck/Jaw/Shoulder/Back    0\n",
      "Excessive Sweating                0\n",
      "Persistent Cough                  0\n",
      "Nausea/Vomiting                   0\n",
      "High Blood Pressure               0\n",
      "Chest Discomfort (Activity)       0\n",
      "Cold Hands/Feet                   0\n",
      "Snoring/Sleep Apnea               0\n",
      "Anxiety/Feeling of Doom           0\n",
      "Age                               0\n",
      "Stroke Risk (%)                   0\n",
      "At Risk (Binary)                  0\n",
      "dtype: int64\n"
     ]
    }
   ],
   "source": [
    "print(df.isnull().sum())"
   ]
  },
  {
   "cell_type": "markdown",
   "metadata": {},
   "source": [
    "As expected we have no null values throughout dataset but good to confirm"
   ]
  },
  {
   "cell_type": "code",
   "execution_count": 6,
   "metadata": {},
   "outputs": [
    {
     "name": "stdout",
     "output_type": "stream",
     "text": [
      "duplicate rows:  1021\n"
     ]
    }
   ],
   "source": [
    "print('duplicate rows: ',  df.duplicated().sum())"
   ]
  },
  {
   "cell_type": "markdown",
   "metadata": {},
   "source": [
    "Can deduce from this 1,021 duplicate rows in our dataset. We definitely need to drop these values because we are NOT working with time series input and we want unique patient profiles. They can add noise when trying to make predictions too if we do not drop them!"
   ]
  },
  {
   "cell_type": "code",
   "execution_count": 7,
   "metadata": {},
   "outputs": [
    {
     "name": "stdout",
     "output_type": "stream",
     "text": [
      "duplicate rows:  0\n"
     ]
    }
   ],
   "source": [
    "df = df.drop_duplicates()\n",
    "print('duplicate rows: ',  df.duplicated().sum())"
   ]
  },
  {
   "cell_type": "code",
   "execution_count": 8,
   "metadata": {},
   "outputs": [
    {
     "data": {
      "text/plain": [
       "Chest Pain                          int64\n",
       "Shortness of Breath                 int64\n",
       "Irregular Heartbeat                 int64\n",
       "Fatigue & Weakness                  int64\n",
       "Dizziness                           int64\n",
       "Swelling (Edema)                    int64\n",
       "Pain in Neck/Jaw/Shoulder/Back      int64\n",
       "Excessive Sweating                  int64\n",
       "Persistent Cough                    int64\n",
       "Nausea/Vomiting                     int64\n",
       "High Blood Pressure                 int64\n",
       "Chest Discomfort (Activity)         int64\n",
       "Cold Hands/Feet                     int64\n",
       "Snoring/Sleep Apnea                 int64\n",
       "Anxiety/Feeling of Doom             int64\n",
       "Age                                 int64\n",
       "Stroke Risk (%)                   float64\n",
       "At Risk (Binary)                    int64\n",
       "dtype: object"
      ]
     },
     "execution_count": 8,
     "metadata": {},
     "output_type": "execute_result"
    }
   ],
   "source": [
    "df.dtypes"
   ]
  },
  {
   "cell_type": "markdown",
   "metadata": {},
   "source": [
    "Perfect datatype consistency across dataset and seems fine to keep it as is.\n",
    "\n",
    "Last step would be outlier analysis. The columns that would make sense to analyse are:\n",
    "- Age\n",
    "- Stroke Risk (%)"
   ]
  },
  {
   "cell_type": "markdown",
   "metadata": {},
   "source": [
    "#### Age Analysis "
   ]
  },
  {
   "cell_type": "code",
   "execution_count": 9,
   "metadata": {},
   "outputs": [
    {
     "data": {
      "image/png": "[encoded data removed]",
      "text/plain": [
       "<Figure size 640x480 with 1 Axes>"
      ]
     },
     "metadata": {},
     "output_type": "display_data"
    }
   ],
   "source": [
    "sns.boxplot(x=df['Age'])\n",
    "plt.title(\"Age boxplot\")\n",
    "plt.show()"
   ]
  },
  {
   "cell_type": "code",
   "execution_count": 10,
   "metadata": {},
   "outputs": [
    {
     "name": "stdout",
     "output_type": "stream",
     "text": [
      "Age range: 18 to 90 years\n"
     ]
    }
   ],
   "source": [
    "age_min = df['Age'].min()\n",
    "age_max = df['Age'].max()\n",
    "print(f\"Age range: {age_min} to {age_max} years\")"
   ]
  },
  {
   "cell_type": "code",
   "execution_count": null,
   "metadata": {},
   "outputs": [
    {
     "name": "stdout",
     "output_type": "stream",
     "text": [
      "No outliers found\n"
     ]
    }
   ],
   "source": [
    "Q1 = df['Age'].quantile(0.25)\n",
    "Q3 = df['Age'].quantile(0.75)\n",
    "\n",
    "IQR = Q3 - Q1\n",
    "\n",
    "lower_bound = Q1 - 1.5 * IQR\n",
    "upper_bound = Q3 + 1.5 * IQR\n",
    "\n",
    "outliers = df[(df['Age'] < lower_bound) | (df['Age'] > upper_bound)]\n",
    "\n",
    "if outliers.empty:\n",
    " print(\"No outliers found\")\n",
    "else:\n",
    "  print(f\"Outliers found: {len(outliers)}\")\n",
    "  print(outliers[['Age']])"
   ]
  },
  {
   "cell_type": "markdown",
   "metadata": {},
   "source": [
    "#### Stroke Risk (%) Anaylsis"
   ]
  },
  {
   "cell_type": "code",
   "execution_count": 12,
   "metadata": {},
   "outputs": [
    {
     "data": {
      "image/png": "[encoded data removed]",
      "text/plain": [
       "<Figure size 640x480 with 1 Axes>"
      ]
     },
     "metadata": {},
     "output_type": "display_data"
    }
   ],
   "source": [
    "sns.boxplot(x=df['Stroke Risk (%)'])\n",
    "plt.title(\"Stroke Risk (%) boxplot\")\n",
    "plt.show()"
   ]
  },
  {
   "cell_type": "code",
   "execution_count": 13,
   "metadata": {},
   "outputs": [
    {
     "name": "stdout",
     "output_type": "stream",
     "text": [
      "Stroke Risk range: 5.00% to 100.00%\n"
     ]
    }
   ],
   "source": [
    "risk_min = df['Stroke Risk (%)'].min()\n",
    "risk_max = df['Stroke Risk (%)'].max()\n",
    "print(f\"Stroke Risk range: {risk_min:.2f}% to {risk_max:.2f}%\")"
   ]
  },
  {
   "cell_type": "code",
   "execution_count": 14,
   "metadata": {},
   "outputs": [
    {
     "name": "stdout",
     "output_type": "stream",
     "text": [
      "Outliers found: 70\n",
      "       Stroke Risk (%)\n",
      "2498             100.0\n",
      "6423              98.5\n",
      "8544              98.0\n",
      "8772             100.0\n",
      "8962              97.5\n",
      "...                ...\n",
      "58128             97.0\n",
      "61361             13.0\n",
      "64253             13.0\n",
      "65189             99.5\n",
      "68195             11.5\n",
      "\n",
      "[70 rows x 1 columns]\n"
     ]
    }
   ],
   "source": [
    "Q1 = df['Stroke Risk (%)'].quantile(0.25)\n",
    "Q3 = df['Stroke Risk (%)'].quantile(0.75)\n",
    "\n",
    "IQR = Q3 - Q1\n",
    "\n",
    "lower_bound = Q1 - 1.5 * IQR\n",
    "upper_bound = Q3 + 1.5 * IQR\n",
    "\n",
    "outliers = df[(df['Stroke Risk (%)'] < lower_bound) | (df['Stroke Risk (%)'] > upper_bound)]\n",
    "\n",
    "if outliers.empty:\n",
    " print(\"No outliers found\")\n",
    "else:\n",
    " print(f\"Outliers found: {len(outliers)}\")\n",
    " print(outliers[['Stroke Risk (%)']])\n",
    " "
   ]
  },
  {
   "cell_type": "markdown",
   "metadata": {},
   "source": [
    "Looks like we have some outliers in the Stroke Risk percentage column, 70 outliers to be precise. We can bascially interpret these values as cases where patients where either at extremely high risk in the upper percentile and vice versa for the lower percentile. \n",
    "\n",
    "Does this mean that we should drop these outlier? No, these cases could actually be medically valid and could/will actually play an important role in our predictions later on and therefore should be accounted for."
   ]
  },
  {
   "cell_type": "code",
   "execution_count": 18,
   "metadata": {},
   "outputs": [
    {
     "data": {
      "text/plain": [
       "<Axes: xlabel='Stroke Risk (%)', ylabel='Count'>"
      ]
     },
     "execution_count": 18,
     "metadata": {},
     "output_type": "execute_result"
    },
    {
     "data": {
      "image/png": "[encoded data removed]",
      "text/plain": [
       "<Figure size 640x480 with 1 Axes>"
      ]
     },
     "metadata": {},
     "output_type": "display_data"
    }
   ],
   "source": [
    "sns.histplot(df['Stroke Risk (%)'], bins=50, kde=True)"
   ]
  },
  {
   "cell_type": "markdown",
   "metadata": {},
   "source": [
    "*Normal distribution*"
   ]
  },
  {
   "cell_type": "markdown",
   "metadata": {},
   "source": [
    "Before we conclude that not dropping the outliers is good idea on the stroke risk column, we can do a further check to see if they are actually valid to not drop by comparing them against the at risk binary column.\n",
    "\n",
    "Obviously if the outlier in the higher range does has any rows where the At risk != 1, that is a problem, and vice versa for the lower percentile so at risk 1= 0. \n",
    "\n",
    "Why? Because then the data does not make sense that you have a stroke risk higher than 95% but the at risk value shows 0 which means not at risk."
   ]
  },
  {
   "cell_type": "code",
   "execution_count": 15,
   "metadata": {},
   "outputs": [
    {
     "name": "stdout",
     "output_type": "stream",
     "text": [
      "At Risk (Binary)\n",
      "1    73\n",
      "Name: count, dtype: int64\n"
     ]
    }
   ],
   "source": [
    "print(df[df['Stroke Risk (%)'] > 95]['At Risk (Binary)'].value_counts())"
   ]
  },
  {
   "cell_type": "code",
   "execution_count": 16,
   "metadata": {},
   "outputs": [
    {
     "name": "stdout",
     "output_type": "stream",
     "text": [
      "At Risk (Binary)\n",
      "0    32\n",
      "Name: count, dtype: int64\n"
     ]
    }
   ],
   "source": [
    "print(df[df['Stroke Risk (%)'] < 15]['At Risk (Binary)'].value_counts())"
   ]
  },
  {
   "cell_type": "markdown",
   "metadata": {},
   "source": [
    "Yes, both show what we want, all upper percentile outliers show at risk of 1 and vice versa with < 15% having a values of 0."
   ]
  },
  {
   "cell_type": "code",
   "execution_count": null,
   "metadata": {},
   "outputs": [
    {
     "data": {
      "text/plain": [
       "np.float64(5.0)"
      ]
     },
     "execution_count": 17,
     "metadata": {},
     "output_type": "execute_result"
    }
   ],
   "source": []
  },
  {
   "cell_type": "code",
   "execution_count": null,
   "metadata": {},
   "outputs": [],
   "source": []
  }
 ],
 "metadata": {
  "kernelspec": {
   "display_name": "ola-2-venv",
   "language": "python",
   "name": "python3"
  },
  "language_info": {
   "codemirror_mode": {
    "name": "ipython",
    "version": 3
   },
   "file_extension": ".py",
   "mimetype": "text/x-python",
   "name": "python",
   "nbconvert_exporter": "python",
   "pygments_lexer": "ipython3",
   "version": "3.13.2"
  }
 },
 "nbformat": 4,
 "nbformat_minor": 2
}
